{
  "nbformat": 4,
  "nbformat_minor": 0,
  "metadata": {
    "colab": {
      "provenance": [],
      "toc_visible": true
    },
    "kernelspec": {
      "name": "python3",
      "display_name": "Python 3"
    },
    "language_info": {
      "name": "python"
    }
  },
  "cells": [
    {
      "cell_type": "markdown",
      "source": [
        "【課題】条件分岐のif文で処理を切り替えよう\n",
        "if文を用いて、以下の条件分岐をするコードを記述してください。値はprint関数で出力してください。\n",
        "\n",
        "・変数varが、3の倍数の場合は「Fizz」を出力\n",
        "・変数varが、5の倍数の場合は「Buzz」を出力\n",
        "・変数varが、3の倍数と5の倍数の両方に該当する場合は「FizzBuzz」を出力\n",
        "・上記のどの場合にも該当しない場合は、変数varの値を出力\n",
        "\n",
        "ただし、変数varは正の整数とします。"
      ],
      "metadata": {
        "id": "M_sBPLzdvEHU"
      }
    },
    {
      "cell_type": "markdown",
      "source": [],
      "metadata": {
        "id": "b9O7_81HvBIt"
      }
    },
    {
      "cell_type": "code",
      "source": [
        "#ランダムな整数を利用するために、randomモジュールをインポート\n",
        "import random\n",
        "\n",
        "#変数「var」にランダムな整数を代入する\n",
        "var = random.randint(0,100)\n",
        "\n",
        "#変数「var」の値を入力\n",
        "print(var)\n",
        "\n",
        "if var % 3== 0 and var % 5 == 0:\n",
        " print(\"FizzBuzz\")\n",
        "\n",
        "elif var % 5 == 0:\n",
        " print(\"Buzz\")\n",
        "\n",
        "elif  var % 3 == 0:\n",
        " print(\"Fizz\")\n",
        "\n",
        "else :\n",
        "  print(var)\n",
        "\n",
        "\n",
        "\n",
        "\n"
      ],
      "metadata": {
        "colab": {
          "base_uri": "https://localhost:8080/"
        },
        "id": "ntXijharvRnk",
        "outputId": "1e82b7b0-5bab-4017-b343-3525d41a0f6b"
      },
      "execution_count": null,
      "outputs": [
        {
          "output_type": "stream",
          "name": "stdout",
          "text": [
            "60\n",
            "FizzBuzz\n"
          ]
        }
      ]
    }
  ]
}