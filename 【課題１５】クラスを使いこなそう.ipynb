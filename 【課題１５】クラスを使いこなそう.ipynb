{
  "nbformat": 4,
  "nbformat_minor": 0,
  "metadata": {
    "colab": {
      "provenance": []
    },
    "kernelspec": {
      "name": "python3",
      "display_name": "Python 3"
    },
    "language_info": {
      "name": "python"
    }
  },
  "cells": [
    {
      "cell_type": "markdown",
      "source": [
        "【課題１５】クラスを使いこなそう"
      ],
      "metadata": {
        "id": "g4UoOnjlgw7c"
      }
    },
    {
      "cell_type": "code",
      "source": [
        "class Human:\n",
        "    # コンストラクタを定義する\n",
        "    def __init__(self, name, age, gender):\n",
        "        self.name = name\n",
        "        self.age = age\n",
        "        self.gender = gender\n",
        "\n",
        "\n",
        "#インスタンス化する\n",
        "user = User(\"なな\",7,\"女性\")\n",
        "\n",
        "# 属性にアクセスし、値を出力する\n",
        "print(user.name)\n",
        "print(user.age)\n",
        "print(user.gender)\n",
        "\n"
      ],
      "metadata": {
        "colab": {
          "base_uri": "https://localhost:8080/"
        },
        "id": "YgNOwcXLoNlV",
        "outputId": "347c1a22-f3c0-4545-97f0-0523bf762bad"
      },
      "execution_count": 19,
      "outputs": [
        {
          "output_type": "stream",
          "name": "stdout",
          "text": [
            "なな\n",
            "7\n",
            "女性\n"
          ]
        }
      ]
    }
  ]
}