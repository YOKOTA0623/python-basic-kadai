{
  "nbformat": 4,
  "nbformat_minor": 0,
  "metadata": {
    "colab": {
      "provenance": []
    },
    "kernelspec": {
      "name": "python3",
      "display_name": "Python 3"
    },
    "language_info": {
      "name": "python"
    }
  },
  "cells": [
    {
      "cell_type": "code",
      "execution_count": null,
      "metadata": {
        "id": "cxky_SCjQe_i"
      },
      "outputs": [],
      "source": [
        "#【課題】変数を使って四則演算しよう\n",
        "top_side = 10\n",
        "bottom = 20\n",
        "height = 5\n",
        "\n",
        "#台形の面積を計算する\n",
        "print((top_side+bottom)*height/2)"
      ]
    }
  ]
}