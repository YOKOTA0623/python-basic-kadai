{
  "nbformat": 4,
  "nbformat_minor": 0,
  "metadata": {
    "colab": {
      "provenance": []
    },
    "kernelspec": {
      "name": "python3",
      "display_name": "Python 3"
    },
    "language_info": {
      "name": "python"
    }
  },
  "cells": [
    {
      "cell_type": "markdown",
      "source": [
        "【課題１３】関数を使いこなそう"
      ],
      "metadata": {
        "id": "lEDEKA5TYvXS"
      }
    },
    {
      "cell_type": "code",
      "source": [
        "\n",
        "\n",
        "def add_price_including_tax(price,tax):\n",
        "\n",
        "  total = price * tax\n",
        "  return   f\"{total}円\"\n",
        "\n",
        "print(add_price_including_tax(1000,1.1))\n",
        "\n",
        "\n"
      ],
      "metadata": {
        "colab": {
          "base_uri": "https://localhost:8080/"
        },
        "id": "lzAa3mLtJqGx",
        "outputId": "35fd5f2b-0697-4e80-feea-54657087ecfc"
      },
      "execution_count": 57,
      "outputs": [
        {
          "output_type": "stream",
          "name": "stdout",
          "text": [
            "1100.0円\n"
          ]
        }
      ]
    },
    {
      "cell_type": "markdown",
      "source": [],
      "metadata": {
        "id": "v49ATKhQYumU"
      }
    },
    {
      "cell_type": "markdown",
      "source": [],
      "metadata": {
        "id": "rnAcMFF0TeDT"
      }
    }
  ]
}