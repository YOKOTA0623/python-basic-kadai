{
  "nbformat": 4,
  "nbformat_minor": 0,
  "metadata": {
    "colab": {
      "provenance": []
    },
    "kernelspec": {
      "name": "python3",
      "display_name": "Python 3"
    },
    "language_info": {
      "name": "python"
    }
  },
  "cells": [
    {
      "cell_type": "code",
      "execution_count": 1,
      "metadata": {
        "colab": {
          "base_uri": "https://localhost:8080/"
        },
        "id": "Rd0xFxkPOU7U",
        "outputId": "6e3e9f81-b559-4210-95b7-4330f194d0f3"
      },
      "outputs": [
        {
          "output_type": "stream",
          "name": "stdout",
          "text": [
            "積の結果\n",
            " [[ 4  5  6  7]\n",
            " [12 17 22 27]\n",
            " [20 29 38 47]]\n",
            "最大値 47\n"
          ]
        }
      ],
      "source": [
        "import numpy as np\n",
        "\n",
        "a=np.array([[0,1],[2,3],[4,5]])\n",
        "b=np.array([[0,1,2,3],[4,5,6,7]])\n",
        "\n",
        "result=np.dot(a,b)\n",
        "print(\"積の結果\\n\",result)\n",
        "\n",
        "max_value=np.max(result)\n",
        "print(\"最大値\",max_value)\n"
      ]
    }
  ]
}