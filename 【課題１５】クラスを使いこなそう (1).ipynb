{
  "nbformat": 4,
  "nbformat_minor": 0,
  "metadata": {
    "colab": {
      "provenance": []
    },
    "kernelspec": {
      "name": "python3",
      "display_name": "Python 3"
    },
    "language_info": {
      "name": "python"
    }
  },
  "cells": [
    {
      "cell_type": "markdown",
      "source": [
        "**`【課題１５】クラスを使いこなそう`**"
      ],
      "metadata": {
        "id": "AFBWIXXQ7wV8"
      }
    },
    {
      "cell_type": "markdown",
      "source": [
        "課題の内容\n",
        "名前(name)と年齢(age)の属性を持つHumanクラスを作成してください。\n",
        "nameとageを標準出力(print)するメソッド(printinfo)を追加してください。\n",
        "\n",
        "Humanクラスのインスタンスは、変数に代入してプログラム内で使用してください。\n",
        "\n",
        "\n"
      ],
      "metadata": {
        "id": "A7xfD-c07YE-"
      }
    },
    {
      "cell_type": "markdown",
      "source": [
        "**合格基準**\n",
        "1.  「課題の内容」の仕様通りのクラスが定義されている\n",
        "2.  Humanクラスのインスタンスが変数に代入されている\n",
        "3.  定義したクラスに属するメソッド(printinfo)を使用し、名前(name)と年齢(age)が出力されている\n"
      ],
      "metadata": {
        "id": "63pzf5eH76f0"
      }
    },
    {
      "cell_type": "code",
      "source": [
        "class Human:\n",
        "\n",
        " def __init__(self,name,age):\n",
        "        self.name = name\n",
        "        self.age = age\n",
        "\n",
        "\n",
        " def adult(self):\n",
        "  if self.age >=18:\n",
        "   print(f\"{self.name}は大人です。\")\n",
        "  else:\n",
        "   print(f\"{self.name}は子供です。\")\n",
        "\n",
        "Human1 = Human(\"あみ\",23)\n",
        "Human2 = Human(\"けい\",18)\n",
        "Human3 = Human(\"たか\",53)\n",
        "Human4 = Human(\"なお\",16)\n",
        "Human5 = Human(\"ゆみ\",7)\n",
        "\n",
        "names = [Human1, Human2, Human3, Human4, Human5]\n",
        "\n",
        "for human in names:\n",
        "    human.adult()\n",
        "\n",
        "\n",
        "\n",
        "\n",
        ""
      ],
      "metadata": {
        "colab": {
          "base_uri": "https://localhost:8080/"
        },
        "collapsed": true,
        "id": "K7NDB0cs7aIN",
        "outputId": "dbc892e1-19be-4ce5-f9b0-5363de261b01"
      },
      "execution_count": 179,
      "outputs": [
        {
          "output_type": "stream",
          "name": "stdout",
          "text": [
            "あみは大人です。\n",
            "けいは大人です。\n",
            "たかは大人です。\n",
            "なおは子供です。\n",
            "ゆみは子供です。\n"
          ]
        }
      ]
    }
  ]
}