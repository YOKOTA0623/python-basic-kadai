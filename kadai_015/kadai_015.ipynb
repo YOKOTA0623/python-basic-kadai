{
  "nbformat": 4,
  "nbformat_minor": 0,
  "metadata": {
    "colab": {
      "provenance": []
    },
    "kernelspec": {
      "name": "python3",
      "display_name": "Python 3"
    },
    "language_info": {
      "name": "python"
    }
  },
  "cells": [
    {
      "cell_type": "code",
      "execution_count": null,
      "metadata": {
        "id": "SLkKbarfDRn1"
      },
      "outputs": [],
      "source": []
    },
    {
      "cell_type": "code",
      "source": [
        "class Human:\n",
        "\n",
        " def __init__(self,name,age):\n",
        "        self.name = name\n",
        "        self.age = age\n",
        "\n",
        "\n",
        " def adult(self):\n",
        "  if self.age >=18:\n",
        "   print(f\"{self.name}は{self.age}歳で大人です。\")\n",
        "  else:\n",
        "   print(f\"{self.name}は{self.age}歳で子供です。\")\n",
        "\n",
        "Human1 = Human(\"あみ\",23)\n",
        "Human2 = Human(\"けい\",18)\n",
        "Human3 = Human(\"たか\",53)\n",
        "Human4 = Human(\"なお\",16)\n",
        "Human5 = Human(\"ゆみ\",7)\n",
        "\n",
        "names = [Human1, Human2, Human3, Human4, Human5]\n",
        "\n",
        "for human in names:\n",
        "    human.adult()"
      ],
      "metadata": {
        "colab": {
          "base_uri": "https://localhost:8080/"
        },
        "id": "-j5LNFfhOon2",
        "outputId": "391210a4-3ec2-4c77-90d4-9b9e39cb0b81"
      },
      "execution_count": 14,
      "outputs": [
        {
          "output_type": "stream",
          "name": "stdout",
          "text": [
            "あみは23歳で大人です。\n",
            "けいは18歳で大人です。\n",
            "たかは53歳で大人です。\n",
            "なおは16歳で子供です。\n",
            "ゆみは7歳で子供です。\n"
          ]
        }
      ]
    }
  ]
}